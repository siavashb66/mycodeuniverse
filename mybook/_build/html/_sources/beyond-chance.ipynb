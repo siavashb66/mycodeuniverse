{
 "cells": [
  {
   "cell_type": "code",
   "execution_count": null,
   "id": "3c7f4d4a",
   "metadata": {},
   "outputs": [],
   "source": [
    "import random\n",
    "import matplotlib.pyplot as plt\n",
    "from collections import Counter\n"
   ]
  },
  {
   "cell_type": "code",
   "execution_count": null,
   "id": "206c4577",
   "metadata": {},
   "outputs": [],
   "source": [
    "def simulate_dice_rolls(attempts):\n",
    "    return [sum(random.randint(1, 6) for _ in range(2)) for _ in range(attempts)]\n",
    "\n",
    "sums_possibilities = range(2, 13)"
   ]
  },
  {
   "cell_type": "code",
   "execution_count": null,
   "id": "f0b3e9d4",
   "metadata": {},
   "outputs": [],
   "source": [
    "def plot_distribution(sums_possibilities, sums_distributions):\n",
    "    plt.bar(sums_possibilities, sums_distributions, color='b')\n",
    "    plt.xlabel('Sum of Dice')\n",
    "    plt.ylabel('Probability')\n",
    "    plt.title('Probability Distribution of Sums when Rolling Dice')\n",
    "    plt.grid(False)\n",
    "    plt.show()"
   ]
  },
  {
   "cell_type": "code",
   "execution_count": null,
   "id": "b68c8a79",
   "metadata": {},
   "outputs": [],
   "source": [
    "# Example 1\n",
    "attempts_1 = 10\n",
    "sums_1 = simulate_dice_rolls(attempts_1)\n",
    "sums_counts_1 = Counter(sums_1)\n",
    "sums_distributions_1 = [sums_counts_1[i] / attempts_1 for i in sums_possibilities]\n",
    "\n",
    "# Plot distribution for Example 1\n",
    "plot_distribution(sums_possibilities, sums_distributions_1)"
   ]
  },
  {
   "cell_type": "code",
   "execution_count": null,
   "id": "79490760",
   "metadata": {
    "scrolled": true
   },
   "outputs": [],
   "source": [
    "# Example 2\n",
    "attempts_2 = 500\n",
    "sums_2 = simulate_dice_rolls(attempts_2)\n",
    "\n",
    "sums_counts_2 = Counter(sums_2)\n",
    "sums_distributions_2 = [sums_counts_2[i] / attempts_2 for i in sums_possibilities]\n",
    "\n",
    "# Plot distribution for Example 2\n",
    "plot_distribution(sums_possibilities, sums_distributions_2)"
   ]
  },
  {
   "cell_type": "code",
   "execution_count": null,
   "id": "c8740ca7",
   "metadata": {},
   "outputs": [],
   "source": [
    "# Example 3\n",
    "attempts_3 = 100000\n",
    "sums_3 = simulate_dice_rolls(attempts_3)\n",
    "\n",
    "sums_counts_3 = Counter(sums_3)\n",
    "sums_distributions_3 = [sums_counts_3[i] / attempts_3 for i in sums_possibilities]\n",
    "\n",
    "# Plot distribution for Example 3\n",
    "plot_distribution(sums_possibilities, sums_distributions_3)"
   ]
  },
  {
   "cell_type": "code",
   "execution_count": null,
   "id": "9e26e170",
   "metadata": {},
   "outputs": [],
   "source": [
    "# Roll the Dice Three Times\n",
    "def simulate_dice_rolls_3times(attempts):\n",
    "    return [sum(random.randint(1, 6) for _ in range(3)) for _ in range(attempts)]\n",
    "\n",
    "sums_possibilities_3times = range(3, 19)"
   ]
  },
  {
   "cell_type": "code",
   "execution_count": null,
   "id": "20e78335",
   "metadata": {
    "scrolled": true
   },
   "outputs": [],
   "source": [
    "# Example 4\n",
    "attempts_4 = 100000\n",
    "sums_4 = simulate_dice_rolls_3times(attempts_4)\n",
    "\n",
    "sums_counts_4 = Counter(sums_4)\n",
    "sums_distributions_4 = [sums_counts_4[i] / attempts_4 for i in sums_possibilities_3times]\n",
    "\n",
    "# Plot distribution for Example 3\n",
    "plot_distribution(sums_possibilities_3times, sums_distributions_4)"
   ]
  },
  {
   "cell_type": "code",
   "execution_count": null,
   "id": "306a20fd",
   "metadata": {},
   "outputs": [],
   "source": [
    "# Roll the Dice Four Times\n",
    "def simulate_dice_rolls_4times(attempts):\n",
    "    return [sum(random.randint(1, 6) for _ in range(4)) for _ in range(attempts)]\n",
    "\n",
    "sums_possibilities_4times = range(4, 25)"
   ]
  },
  {
   "cell_type": "code",
   "execution_count": null,
   "id": "978ac34c",
   "metadata": {},
   "outputs": [],
   "source": [
    "# Example 5\n",
    "attempts_5 = 200000\n",
    "sums_5 = simulate_dice_rolls_4times(attempts_5)\n",
    "\n",
    "sums_counts_5 = Counter(sums_5)\n",
    "sums_distributions_5 = [sums_counts_5[i] / attempts_5 for i in sums_possibilities_4times]\n",
    "\n",
    "# Plot distribution\n",
    "plot_distribution(sums_possibilities_4times, sums_distributions_5)"
   ]
  },
  {
   "cell_type": "code",
   "execution_count": null,
   "id": "89fe6253",
   "metadata": {},
   "outputs": [],
   "source": []
  }
 ],
 "metadata": {
  "kernelspec": {
   "display_name": "Python 3 (ipykernel)",
   "language": "python",
   "name": "python3"
  },
  "language_info": {
   "codemirror_mode": {
    "name": "ipython",
    "version": 3
   },
   "file_extension": ".py",
   "mimetype": "text/x-python",
   "name": "python",
   "nbconvert_exporter": "python",
   "pygments_lexer": "ipython3",
   "version": "3.11.8"
  }
 },
 "nbformat": 4,
 "nbformat_minor": 5
}
