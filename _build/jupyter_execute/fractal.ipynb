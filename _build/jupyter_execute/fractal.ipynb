{
 "cells": [
  {
   "cell_type": "markdown",
   "id": "815f5dd6",
   "metadata": {},
   "source": [
    "# My Fractal Content\n",
    "## it is very nice content\n",
    "\n",
    "```{note}\n",
    "very nice fractals\n",
    "```\n",
    " ```python\n",
    " print(\"Hello World!\")\n",
    " ```\n",
    " 1. great fractal\n",
    " 2. nice view\n",
    "    * beautiful visuals"
   ]
  },
  {
   "cell_type": "markdown",
   "id": "bc83dc86",
   "metadata": {},
   "source": [
    "you will also see some math blocks:"
   ]
  },
  {
   "cell_type": "markdown",
   "id": "0eda9f77",
   "metadata": {},
   "source": [
    "$$\n",
    "z^2 = x^2 + y^2 \n",
    "$$"
   ]
  },
  {
   "cell_type": "code",
   "execution_count": 1,
   "id": "dc79d886",
   "metadata": {},
   "outputs": [
    {
     "name": "stdout",
     "output_type": "stream",
     "text": [
      "4\n"
     ]
    }
   ],
   "source": [
    "print(2+2)"
   ]
  },
  {
   "cell_type": "code",
   "execution_count": 2,
   "id": "f87c1225",
   "metadata": {},
   "outputs": [
    {
     "name": "stdout",
     "output_type": "stream",
     "text": [
      "Python syntax highlighting\n"
     ]
    }
   ],
   "source": [
    "note = \"Python syntax highlighting\"\n",
    "print(note)"
   ]
  }
 ],
 "metadata": {
  "jupytext": {
   "cell_metadata_filter": "-all",
   "formats": "md:myst",
   "text_representation": {
    "extension": ".md",
    "format_name": "myst",
    "format_version": 0.13,
    "jupytext_version": "1.16.1"
   }
  },
  "kernelspec": {
   "display_name": "Python 3 (ipykernel)",
   "language": "python",
   "name": "python3"
  },
  "language_info": {
   "codemirror_mode": {
    "name": "ipython",
    "version": 3
   },
   "file_extension": ".py",
   "mimetype": "text/x-python",
   "name": "python",
   "nbconvert_exporter": "python",
   "pygments_lexer": "ipython3",
   "version": "3.11.8"
  },
  "source_map": [
   14,
   29,
   31,
   35,
   38
  ]
 },
 "nbformat": 4,
 "nbformat_minor": 5
}